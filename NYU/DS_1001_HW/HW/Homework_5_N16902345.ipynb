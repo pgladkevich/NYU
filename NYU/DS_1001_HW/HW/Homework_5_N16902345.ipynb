{
 "cells": [
  {
   "cell_type": "markdown",
   "metadata": {},
   "source": [
    "# Introduction to Data Science\n",
    "## Homework 5"
   ]
  },
  {
   "cell_type": "markdown",
   "metadata": {},
   "source": [
    "Student Name: Pavel Gladkevich\n",
    "\n",
    "Student Netid: N16902345\n",
    "***"
   ]
  },
  {
   "cell_type": "markdown",
   "metadata": {},
   "source": [
    "### Part 1: Naive Bayes (5 Points)"
   ]
  },
  {
   "cell_type": "markdown",
   "metadata": {},
   "source": [
    "1\\. From your reading you know that the naive Bayes classifier works by calculating the conditional probabilities of each feature, $e_i$, occuring with each class $c$ and treating them independently. This results in the probability of a certain class occuring given a set of features, or a piece of evidence, $E$, as\n",
    "\n",
    "$$P(c \\mid E) = \\frac{p(e_1 \\mid c) \\cdot p(e_2 \\mid c) \\cdot \\cdot \\cdot p(e_k \\mid c) \\cdot p(c)}{p(E)}.$$\n",
    "\n",
    "The conditional probability of each piece of evidence occuring with a given class is given by\n",
    "\n",
    "$$P(e_i \\mid c) = \\frac{\\text{count}(e_i, c)}{\\text{count}(c)}.$$\n",
    "\n",
    "In the above equation $\\text{count}(e_i, c)$ is the number of documents in a given class that contain feature $e_i$ and $\\text{count}(c)$ is the number of documents that belong to class $c$. \n",
    "\n",
    "A common variation of the above is to use Laplace (sometimes called +1) smoothing. Recall the use of Laplace smoothing introduced toward the end of Chapter 3 in the section Probability Estimation. This is done in sklearn by setting `alpha=1` in the `BernoulliNB()` function (this is also the default behavior). The result of Laplace smoothing will slightly change the conditional probabilities,\n",
    "\n",
    "$$P(e_i \\mid c) = \\frac{\\text{count}(e_i, c) + 1}{\\text{count}(c) + 2}.$$\n",
    "\n",
    "In no more than **one paragraph**, describe why this is useful, and use the bias-variance tradeoff to justify its use. Try to think of a case when not using Laplace smoothing would result in \"bad\" models. Try to give an example. Be precise."
   ]
  },
  {
   "cell_type": "markdown",
   "metadata": {},
   "source": [
    "**Answer:**  Laplace smoothing is useful because the pseudo=count that is added to every probability estimate prevents any individual probablity from being 0. When we add a document with a new unkown element/word to the model, $e_i$, prior to the smoothing this would result in the numerator of the conditional probablity: $\\text{count}(e_i, c)$ to go to 0. However, with the smoothing we prevent this issue from arising. Because we are altering the probabilities the bias increases, but as a tradeoff we drastically reduce the variance. This prevents our model from over-fitting. \n",
    "\n",
    "As an example, if we take a dataset of basketball games where we have so far trained our model on data for team1 vs 4 other teams, where team1 has lost every single game. If we have a new datapoint that has data on a game between team1 and team 5, then with our NB model we are trying to calculate the $P(e_i \\mid E)$, or the conditional probability of team 1 winning a game. So far this will be the $\\frac{0}{0+4}$, or 0,  since team1 has lost all four matches it has played. This resulted in over-fitting as the true-probability of a team winning a game is never 0. Likewise in our document and classification model the probability of a whole document going to 0 because of one new word is absurd and laplace smoothing is very useful.  "
   ]
  },
  {
   "cell_type": "markdown",
   "metadata": {},
   "source": [
    "### Part 2: Text classification for sentiment analysis (20 Points)\n",
    "For this part of the assignment, we are going to use a data set of movie ratings from IMDB.com. The data consists of the text of a movie review and a target variable which tells us whether the reviewer had a positive feeling towards the movie (equivalent to rating the movie between 7 and 10) or a negative feeling (rating the movie between 1 and 4). Neutral reactions are not included in the data.\n",
    "\n",
    "The first column is the review text; the second is the text label 'P' for positive or 'N' for negative."
   ]
  },
  {
   "cell_type": "markdown",
   "metadata": {},
   "source": [
    "1 (1 Point) \\. Load the data into a pandas `DataFrame()`."
   ]
  },
  {
   "cell_type": "code",
   "execution_count": 122,
   "metadata": {},
   "outputs": [
    {
     "data": {
      "text/html": [
       "<div>\n",
       "<style scoped>\n",
       "    .dataframe tbody tr th:only-of-type {\n",
       "        vertical-align: middle;\n",
       "    }\n",
       "\n",
       "    .dataframe tbody tr th {\n",
       "        vertical-align: top;\n",
       "    }\n",
       "\n",
       "    .dataframe thead th {\n",
       "        text-align: right;\n",
       "    }\n",
       "</style>\n",
       "<table border=\"1\" class=\"dataframe\">\n",
       "  <thead>\n",
       "    <tr style=\"text-align: right;\">\n",
       "      <th></th>\n",
       "      <th>Text</th>\n",
       "      <th>Class</th>\n",
       "    </tr>\n",
       "  </thead>\n",
       "  <tbody>\n",
       "    <tr>\n",
       "      <th>0</th>\n",
       "      <td>'One of the first of the best musicals Anchors...</td>\n",
       "      <td>P</td>\n",
       "    </tr>\n",
       "    <tr>\n",
       "      <th>1</th>\n",
       "      <td>'Visually disjointed and full of itself the di...</td>\n",
       "      <td>N</td>\n",
       "    </tr>\n",
       "    <tr>\n",
       "      <th>2</th>\n",
       "      <td>'These type of movies about young teenagers st...</td>\n",
       "      <td>P</td>\n",
       "    </tr>\n",
       "    <tr>\n",
       "      <th>3</th>\n",
       "      <td>'I would rather of had my eyes gouged out with...</td>\n",
       "      <td>N</td>\n",
       "    </tr>\n",
       "    <tr>\n",
       "      <th>4</th>\n",
       "      <td>'The title says it all. Tail Gunner Joe was a ...</td>\n",
       "      <td>N</td>\n",
       "    </tr>\n",
       "  </tbody>\n",
       "</table>\n",
       "</div>"
      ],
      "text/plain": [
       "                                                Text Class\n",
       "0  'One of the first of the best musicals Anchors...     P\n",
       "1  'Visually disjointed and full of itself the di...     N\n",
       "2  'These type of movies about young teenagers st...     P\n",
       "3  'I would rather of had my eyes gouged out with...     N\n",
       "4  'The title says it all. Tail Gunner Joe was a ...     N"
      ]
     },
     "execution_count": 122,
     "metadata": {},
     "output_type": "execute_result"
    }
   ],
   "source": [
    "import pandas as pd\n",
    "imdb = pd.read_csv('imdb.csv')\n",
    "imdb = imdb[imdb['Class'].notnull()]\n",
    "imdb.head()"
   ]
  },
  {
   "cell_type": "markdown",
   "metadata": {},
   "source": [
    "2 (1 Point)\\. Code the target variable to be numeric: use the value `1` to represent 'P' and `0` to represent 'N'."
   ]
  },
  {
   "cell_type": "code",
   "execution_count": 123,
   "metadata": {},
   "outputs": [
    {
     "data": {
      "text/html": [
       "<div>\n",
       "<style scoped>\n",
       "    .dataframe tbody tr th:only-of-type {\n",
       "        vertical-align: middle;\n",
       "    }\n",
       "\n",
       "    .dataframe tbody tr th {\n",
       "        vertical-align: top;\n",
       "    }\n",
       "\n",
       "    .dataframe thead th {\n",
       "        text-align: right;\n",
       "    }\n",
       "</style>\n",
       "<table border=\"1\" class=\"dataframe\">\n",
       "  <thead>\n",
       "    <tr style=\"text-align: right;\">\n",
       "      <th></th>\n",
       "      <th>Text</th>\n",
       "      <th>Class</th>\n",
       "    </tr>\n",
       "  </thead>\n",
       "  <tbody>\n",
       "    <tr>\n",
       "      <th>0</th>\n",
       "      <td>'One of the first of the best musicals Anchors...</td>\n",
       "      <td>1</td>\n",
       "    </tr>\n",
       "    <tr>\n",
       "      <th>1</th>\n",
       "      <td>'Visually disjointed and full of itself the di...</td>\n",
       "      <td>0</td>\n",
       "    </tr>\n",
       "    <tr>\n",
       "      <th>2</th>\n",
       "      <td>'These type of movies about young teenagers st...</td>\n",
       "      <td>1</td>\n",
       "    </tr>\n",
       "    <tr>\n",
       "      <th>3</th>\n",
       "      <td>'I would rather of had my eyes gouged out with...</td>\n",
       "      <td>0</td>\n",
       "    </tr>\n",
       "    <tr>\n",
       "      <th>4</th>\n",
       "      <td>'The title says it all. Tail Gunner Joe was a ...</td>\n",
       "      <td>0</td>\n",
       "    </tr>\n",
       "    <tr>\n",
       "      <th>...</th>\n",
       "      <td>...</td>\n",
       "      <td>...</td>\n",
       "    </tr>\n",
       "    <tr>\n",
       "      <th>8495</th>\n",
       "      <td>'Alright friends a serious movie buff is expec...</td>\n",
       "      <td>0</td>\n",
       "    </tr>\n",
       "    <tr>\n",
       "      <th>8496</th>\n",
       "      <td>'I found this film embarrassing to watch. I fe...</td>\n",
       "      <td>0</td>\n",
       "    </tr>\n",
       "    <tr>\n",
       "      <th>8497</th>\n",
       "      <td>'To put it simply I am not fond of westerns. A...</td>\n",
       "      <td>0</td>\n",
       "    </tr>\n",
       "    <tr>\n",
       "      <th>8498</th>\n",
       "      <td>'Some of these viewer comments are just ridicu...</td>\n",
       "      <td>0</td>\n",
       "    </tr>\n",
       "    <tr>\n",
       "      <th>8499</th>\n",
       "      <td>'Sometimes a premise starts out good but becau...</td>\n",
       "      <td>0</td>\n",
       "    </tr>\n",
       "  </tbody>\n",
       "</table>\n",
       "<p>8499 rows × 2 columns</p>\n",
       "</div>"
      ],
      "text/plain": [
       "                                                   Text  Class\n",
       "0     'One of the first of the best musicals Anchors...      1\n",
       "1     'Visually disjointed and full of itself the di...      0\n",
       "2     'These type of movies about young teenagers st...      1\n",
       "3     'I would rather of had my eyes gouged out with...      0\n",
       "4     'The title says it all. Tail Gunner Joe was a ...      0\n",
       "...                                                 ...    ...\n",
       "8495  'Alright friends a serious movie buff is expec...      0\n",
       "8496  'I found this film embarrassing to watch. I fe...      0\n",
       "8497  'To put it simply I am not fond of westerns. A...      0\n",
       "8498  'Some of these viewer comments are just ridicu...      0\n",
       "8499  'Sometimes a premise starts out good but becau...      0\n",
       "\n",
       "[8499 rows x 2 columns]"
      ]
     },
     "execution_count": 123,
     "metadata": {},
     "output_type": "execute_result"
    }
   ],
   "source": [
    "label = {'P' : 1, 'N' : 0}\n",
    "imdb[\"Class\"] = imdb.Class.replace(label)\n",
    "imdb"
   ]
  },
  {
   "cell_type": "markdown",
   "metadata": {},
   "source": [
    "3 (2 Points)\\. Put all of the text into a data frame called `X` and the target variable in a data frame called `Y`. Make a train/test split where you give 75% of the data to training. Feel free to use any function from sklearn."
   ]
  },
  {
   "cell_type": "code",
   "execution_count": 124,
   "metadata": {},
   "outputs": [],
   "source": [
    "from sklearn.model_selection import train_test_split\n",
    "\n",
    "X = imdb.Text\n",
    "Y = imdb.Class.astype(int)\n",
    "x_train, x_test, y_train, y_test = train_test_split(X, Y, test_size=0.25, random_state=0)"
   ]
  },
  {
   "cell_type": "markdown",
   "metadata": {},
   "source": [
    "4 (5 Points)\\. Create a binary `CountVectorizer()` and a binary `TfidfVectorizer()`. Use the original single words as well as bigrams (in the same model). Also, use an \"english\" stop word list. Fit these to the training data to extract a vocabulary and then transform both the train and test data. Hint - look at the API documentation for both vectorizers to see what we mean by \"binary.\""
   ]
  },
  {
   "cell_type": "code",
   "execution_count": 125,
   "metadata": {},
   "outputs": [],
   "source": [
    "from sklearn.feature_extraction.text import CountVectorizer\n",
    "from sklearn.feature_extraction.text import TfidfVectorizer\n",
    "\n",
    "CV = CountVectorizer(stop_words='english',ngram_range=(1,2), binary=True)\n",
    "TV = TfidfVectorizer(stop_words='english',ngram_range=(1,2), binary=True)\n",
    "\n",
    "x_cv_train = CV.fit_transform(x_train)\n",
    "x_cv_test = CV.transform(x_test)\n",
    "x_tv_train = TV.fit_transform(x_train)\n",
    "x_tv_test = TV.transform(x_test)"
   ]
  },
  {
   "cell_type": "markdown",
   "metadata": {},
   "source": [
    "5 (6 Points)\\. Create `LogisticRegression()` and `BernoulliNB()` models. For all settings, keep the default values. In a single plot, show the AUC curve for both classifiers and both vectorizers defined above. In the legend, include the area under the ROC curve (AUC). Do not forget to label your axes. Your final plot will be a single window with 4 curves.\n",
    "\n",
    "Which model do you think does a better job? Why? Explain in no more than a paragraph.\n",
    "\n",
    "Extra credit (2 points): Do any of the options perform identically? If so, can you explain why?"
   ]
  },
  {
   "cell_type": "code",
   "execution_count": 126,
   "metadata": {},
   "outputs": [],
   "source": [
    "# Run this so your plots show properly\n",
    "import matplotlib.pyplot as plt\n",
    "%matplotlib inline\n",
    "plt.rcParams['figure.figsize'] = 12, 12"
   ]
  },
  {
   "cell_type": "code",
   "execution_count": 127,
   "metadata": {},
   "outputs": [
    {
     "data": {
      "image/png": "[encoded data removed]",
      "text/plain": [
       "<Figure size 864x648 with 1 Axes>"
      ]
     },
     "metadata": {
      "needs_background": "light"
     },
     "output_type": "display_data"
    }
   ],
   "source": [
    "from sklearn.linear_model import LogisticRegression\n",
    "from sklearn.naive_bayes import BernoulliNB\n",
    "from sklearn import metrics\n",
    "from sklearn.metrics import roc_auc_score\n",
    "from sklearn.metrics import roc_curve\n",
    "\n",
    "aucs = []\n",
    "logisticRegr = LogisticRegression()\n",
    "logisticRegr.fit(x_cv_train, y_train)\n",
    "log_y_pred = logisticRegr.predict_proba(x_cv_test)[:,1]\n",
    "aucs.append(roc_auc_score(y_test, log_y_pred))\n",
    "logb_fpr, logb_tpr, t = roc_curve(y_test, log_y_pred)\n",
    "\n",
    "logisticRegr.fit(x_tv_train, y_train)\n",
    "log_y_pred = logisticRegr.predict_proba(x_tv_test)[:,1]\n",
    "aucs.append(roc_auc_score(y_test, log_y_pred))\n",
    "logt_fpr, logt_tpr, t = roc_curve(y_test, log_y_pred)\n",
    "\n",
    "bayes = BernoulliNB()\n",
    "bayes.fit(x_cv_train, y_train)\n",
    "bayes_y_pred = bayes.predict_proba(x_cv_test)[:,1]\n",
    "aucs.append(roc_auc_score(y_test, bayes_y_pred))\n",
    "bayesb_fpr, bayesb_tpr, bayes_thresholds = roc_curve(y_test, bayes_y_pred)\n",
    "\n",
    "bayes.fit(x_tv_train, y_train)\n",
    "bayes_y_pred = bayes.predict_proba(x_tv_test)[:,1]\n",
    "aucs.append(roc_auc_score(y_test, bayes_y_pred))\n",
    "bayest_fpr, bayest_tpr, bayes_thresholds = roc_curve(y_test, bayes_y_pred)\n",
    "\n",
    "plt.figure(figsize=(12,9))\n",
    "plt.plot([0,1], [0,1], 'k--')\n",
    "plt.plot(logb_fpr, logb_tpr, label=f'Logistic Regression Binary Counts={aucs[0]}')\n",
    "plt.plot(logt_fpr, logt_tpr, label=f'Logistic Regression TFIDF Counts={aucs[1]}')\n",
    "plt.plot(bayesb_fpr, bayesb_tpr, label=f'Naive Bayes Binary Counts={aucs[2]}')\n",
    "plt.plot(bayest_fpr, bayest_tpr, label=f'Naive Bayes TFIDF Counts={aucs[3]}')\n",
    "plt.xlabel('False Positive Rate')\n",
    "plt.ylabel('True Positive Rate')\n",
    "plt.title('AUC value for LogRegression and BernoulliBayes models with Binary and TFIDF Counts')\n",
    "plt.legend()\n",
    "plt.show()"
   ]
  },
  {
   "cell_type": "markdown",
   "metadata": {},
   "source": [
    "**Answer**: Based off of the data I believe that the Logistic Regression with weighted TFIDF counts slightly out-performs the other models. The Naive Bayes models rely on independence assumptions, but conditional indpendence likely does not hold in the case of these reviews. If a segment of text has the word \"car\", it is more likley that the word \"driver\" will pop up in the same segment. Similarly, if a reviewer has a strongly negative phrase in their review, it is more likely that they will also have others. Because of this difference, and the slight difference in the AUCs, I believe that the regression models are better suited for the task. Additionally, it makes sense that the TFIDF count logistic regression would be better suited to the task. Weighting words based off of their appearance throughout a single review (term frequency) in relation to the inverse of their appearance across all documents (inverse document frequency) allows for discerning strong sentiment. Reveiwers are unlikely to frequently say they want to \"eviscerate the director\". Weighting this allows for better predictions. \n",
    "\n",
    "**Extra Credit**: The two Naive Bayes models perform exactly identically to eachother, with the same AUC, and even the same ROC curve function. This is because of the Bernoulli Bayes assumption that each feature is assumed to be a binary-valued (Bernoulli, boolean) random variable. Because the TFIDF weights are non-binary they are discarded and replaced with their binary anlogs. From the scikit leanrmodel impelemntation: \"a BernoulliNB instance may binarize its input (depending on the binarize parameter)\" As a result it appears that the TFIDF counts were replaced with the binary counts and so the two models are identical."
   ]
  },
  {
   "cell_type": "markdown",
   "metadata": {
    "collapsed": true
   },
   "source": [
    "6\\. Use the model from question 5 that you think did the best job and predict the rating of the test data. Find 5 examples were labeled positive, but were incorrectly classified as negative. Print out the reviews below and include an explanation as to why you think it may have been incorrectly classified. You can pick any 5. They do not have to be at random."
   ]
  },
  {
   "cell_type": "code",
   "execution_count": 128,
   "metadata": {},
   "outputs": [],
   "source": [
    "logisticRegr = LogisticRegression()\n",
    "logisticRegr.fit(x_tv_train, y_train)\n",
    "predictions = logisticRegr.predict(x_tv_test)\n",
    "reviews = np.array(x_test)\n",
    "labels = np.array(y_test)"
   ]
  },
  {
   "cell_type": "code",
   "execution_count": 129,
   "metadata": {},
   "outputs": [
    {
     "name": "stdout",
     "output_type": "stream",
     "text": [
      "---------------------------------------------------------------------------------------------------------\n",
      "'Since starting to read the book this movie is based on Im having mixed feelings about the filmed result. I learned some time ago to see the movie adaptation of a book before I read the book because I found that if I read the book first I was inevitably disappointed in the film. This would undoubtedly have been true here whereas in the case of Atonement which is probably the best filmed adaptation of a book Ive ever seen it would probably not have mattered. Im trying to figure out what the cause is and I suspect that I have to point my finger squarely at Michael Cunningham. Much as I respect him for The Hours (which I have not read but which I saw and was awed by) I cannot escape the feeling that he not so much adapted Susan Mintons book as he did take a few of the characters and the basic premise and write his own movie out of it. Its not that I dislike the movie. I actually love the movie which is why since I started reading the novel Im feeling disturbed about the whole thing. I feel disloyal to Ms. Minton for enjoying the movie which was so thooughly a departure from her work. Reading it I can understand why she had such a struggle adapting it. Unlike what one reviewer of the movie said its not so much that some novels dont deserve to be a movie; its more like some books just cant make the transition. Ms. Mintons novel operates on a level so personal and intimate to her central character so internally that it seems impossible to me to place it in a physical realm. Even though a lot of the book is memory of real events it is memory and so fragmented and ethereal as to be I feel not filmable. I think that Ms. Mintons work is a real work of literature but cannot make the transition to film which in no way detracts from its value. I cannot yet report that Evening the film does not represent Evening the novel in any more than the most superficial way since Im only halfway through but the original would have to make a tremendous leap to resemble the film that follows at this point. I guess Im writing this because I feel that if youre going to adapt a novel adapt it but dont make it something else that its not. Im not sure if Michael Cunningham has done anything wholly original but from what I can see so far the things he has done are all based on someone elses work. We would not have The Hours if Virginia Woolf had not written Mrs. Dalloway and we would not have Evening in its distressed form if Susan Minton had not had so much trouble doing what probably should not have been attempted in the first place. But its too much to say that it would be better if Ms. Minton had left well enough alone because Evening the film is a satisfactory and beautiful work of its own. Thus my confusion mixed feelings sense of disloyalty and ultimate conclusion that in this case the novel cannot be the film and vice versa and my eventual gratitude to both writers for doing what they did so that we have both works as they are.'\n",
      "---------------------------------------------------------------------------------------------------------\n",
      "'The Ladies Man suffers a common problem among movies based on Saturday Night Live skits. And that is a sketch that usually succeeds in five minutes will not do so well in ninety minutes. Although this movie does have its laughs like Tim Meadows as Leon Phelps a sex-maniac straight out of the 70s and Will Ferrell as a wrestling-obsessed husband cuckolded by Leon. So this movie is funny enough but its no Waynes World!'\n",
      "---------------------------------------------------------------------------------------------------------\n",
      "'This movie has recieved horrible ratings from just about everyone who has voted here but i am here to say if you like movies like Dude Wheres my Car and Dumb and Dumber this movie is for you. If your into movies like Citizen Kane and Casablanca id have to sugest you in a different angle. Yet i still love this movie and everything about it even if it is kind of kiddy this is one of the few movies me and my freinds have been able to keep watching over the years and quote whenever possible. GREAT MOVIE. This movie should the AFIs number 1 because its so friggin high class. The only problem with this movie is you may have trouble seeing it because it was a made for tv movie on a channel that no longer exists. So i dont know how to get this movie id like to buy it for dvd but i cant find it anywhere. I still have it taped from when it was first on you can come over if you want and watch it bute i might be sleeping. this movie rocks and thats basicly all you need to know.'\n",
      "---------------------------------------------------------------------------------------------------------\n",
      "'I think its one of the greatest movies which are ever made and Ive seen many... The book is better but its still a very good movie!'\n",
      "---------------------------------------------------------------------------------------------------------\n",
      "'I found this movie to be very good in all areas. The acting was brilliant from all characters especially Ms.Stone and Morissey. Tramells Character just gets smarter and more psychologically twisted by the minute. The plot is interesting even though this movie is more for the mind playing between the main characters and how Catherine continues her writing with new ways and twists for her novels. The setting was also fabulous and the whole atmosphere of the movie was that mysteriousthriller like masterpiece. Go see this film now  it deserves better than what it got from the audience which was misled by some faulty terrible reviews about the movie(Before it even started).....You wont regret itif you go see it...'\n"
     ]
    }
   ],
   "source": [
    "import numpy as np\n",
    "indices = np.where((predictions == 0) & (labels == 1))[0]\n",
    "\n",
    "for i in indices[0:5]:\n",
    "    print('---------------------------------------------------------------------------------------------------------')\n",
    "    print(reviews[i])"
   ]
  },
  {
   "cell_type": "markdown",
   "metadata": {},
   "source": [
    "**Answer**: In the first review the author is very conflicted about the movie, which he reviewed with a rating of 9/10 https://www.imdb.com/review/rw1690662/, but believes is an unfaithful adaptation of the novel. There is a lot of negative language in the review such as \"inevitably disappointed\", so it is unsurpsising that the sentiment would overall be rated negatively despite the strongly positive rating. This would be very difficult for an algorithm to discern as there are a lot of conflicting emotions displayed by the reviewer. \n",
    "\n",
    "The second review is 7/10 and https://www.imdb.com/review/rw0679951/?ref_=tt_urv its a little down the middle. The author says some positive things about the movie but the first two sentences are fairly negative on the movie and set the tone. In addition the language isn't as trong for the positives \"funny enough\". \n",
    "\n",
    "The third review is a strongly positive review where the reviewer states, \"one of the few movies me and my freinds have been able to keep watching over the years and quote whenever possible. GREAT MOVIE\", but because of the negative language surrounding other people's portrayal of this film, and the difficulty in finding the movie it ultimate gets classified as negative.\n",
    "\n",
    "The fourth review is surpringly negative as the reviewer even says, \"one of the greatest movies which are ever made\". It seems the only negative portions of the statement are the \"... The book is better\" which must have been weighed heavily and skewed the review to a false negative.\n",
    "\n",
    "The last review also contains language that is only negative when talking about other's perceptions of the movie that the reviwer believes are mistakenly negative. It appears in this segment of the misclassified data the main reason for incorrect classification is language critical of the movie from the reviewer's perception of the viewpoint of others. Additionally, in these reviews there are many cases of paraprosdokian, or where the latter portions of the sentence changes the first portion: \"The book is better but its still a very good movie!\" -Review 3"
   ]
  }
 ],
 "metadata": {
  "anaconda-cloud": {},
  "kernelspec": {
   "display_name": "Python 3",
   "language": "python",
   "name": "python3"
  },
  "language_info": {
   "codemirror_mode": {
    "name": "ipython",
    "version": 3
   },
   "file_extension": ".py",
   "mimetype": "text/x-python",
   "name": "python",
   "nbconvert_exporter": "python",
   "pygments_lexer": "ipython3",
   "version": "3.8.3"
  }
 },
 "nbformat": 4,
 "nbformat_minor": 1
}
